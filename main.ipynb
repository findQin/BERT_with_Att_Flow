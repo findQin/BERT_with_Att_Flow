{
 "metadata": {
  "language_info": {
   "codemirror_mode": {
    "name": "ipython",
    "version": 3
   },
   "file_extension": ".py",
   "mimetype": "text/x-python",
   "name": "python",
   "nbconvert_exporter": "python",
   "pygments_lexer": "ipython3",
   "version": "3.7.2-final"
  },
  "orig_nbformat": 2,
  "kernelspec": {
   "name": "python3",
   "display_name": "Python 3"
  }
 },
 "nbformat": 4,
 "nbformat_minor": 2,
 "cells": [
  {
   "source": [
    "In this notebook we train our model: a BERT-like model with attention flow inspired by BiDAF."
   ],
   "cell_type": "markdown",
   "metadata": {}
  },
  {
   "source": [
    "Dependencies:"
   ],
   "cell_type": "markdown",
   "metadata": {}
  },
  {
   "cell_type": "code",
   "execution_count": 1,
   "metadata": {},
   "outputs": [],
   "source": [
    "import torch\n",
    "import torch.optim as optim\n",
    "import torch.nn as nn\n",
    "import torch.nn.functional as F\n",
    "import numpy as np"
   ]
  },
  {
   "source": [
    "This part should be data loading and processing.\n",
    "\n",
    "Input: SQuAD dataset handler/url/json\n",
    "\n",
    "Output: processed dict/list/whatever: train_question, train_context, train_answer"
   ],
   "cell_type": "markdown",
   "metadata": {}
  },
  {
   "cell_type": "code",
   "execution_count": 2,
   "metadata": {},
   "outputs": [
    {
     "output_type": "stream",
     "name": "stdout",
     "text": [
      "max question length: 62\n",
      "max question length: 39\n"
     ]
    }
   ],
   "source": [
    "from utils import data_processing\n",
    "NUM_TRAIN_DATA = 130319\n",
    "train_url = \"https://rajpurkar.github.io/SQuAD-explorer/dataset/train-v2.0.json\"\n",
    "val_url = \"https://rajpurkar.github.io/SQuAD-explorer/dataset/dev-v2.0.json\"\n",
    "encodings =  data_processing.data_processing(train_url, val_url)\n",
    "\n",
    "train_encodings = {key: encodings[key][0:NUM_TRAIN_DATA, :] for key in encodings.keys()}\n",
    "val_encodings = {key: encodings[key][NUM_TRAIN_DATA:, :] for key in encodings.keys()}"
   ]
  },
  {
   "source": [
    "Test on the encodings"
   ],
   "cell_type": "markdown",
   "metadata": {}
  },
  {
   "cell_type": "code",
   "execution_count": 4,
   "metadata": {},
   "outputs": [
    {
     "output_type": "stream",
     "name": "stdout",
     "text": [
      "dict_keys(['input_ids', 'token_type_ids', 'attention_mask', 'start_positions', 'end_positions'])\n"
     ]
    }
   ],
   "source": [
    "print(encodings.keys())"
   ]
  },
  {
   "cell_type": "code",
   "execution_count": 18,
   "metadata": {},
   "outputs": [
    {
     "output_type": "execute_result",
     "data": {
      "text/plain": [
       "torch.Size([130319, 512])"
      ]
     },
     "metadata": {},
     "execution_count": 18
    }
   ],
   "source": [
    "input_ids = torch.tensor(train_encodings['input_ids'], dtype = torch.long)\n",
    "input_ids.shape"
   ]
  },
  {
   "cell_type": "code",
   "execution_count": 19,
   "metadata": {},
   "outputs": [
    {
     "output_type": "stream",
     "name": "stdout",
     "text": [
      "tensor([1, 1, 1,  ..., 1, 1, 1])\n"
     ]
    }
   ],
   "source": [
    "attention_mask = torch.tensor(encodings['attention_mask'], dtype = torch.long)\n",
    "print(attention_mask[:, 0])"
   ]
  },
  {
   "cell_type": "code",
   "execution_count": 21,
   "metadata": {},
   "outputs": [],
   "source": [
    "dataset = torch.utils.data.TensorDataset(input_ids, attention_mask)\n",
    "dataloader = torch.utils.data.DataLoader(dataset, batch_size=16)"
   ]
  },
  {
   "source": [
    "This part should be model construction."
   ],
   "cell_type": "markdown",
   "metadata": {}
  },
  {
   "cell_type": "code",
   "execution_count": 35,
   "metadata": {},
   "outputs": [
    {
     "output_type": "stream",
     "name": "stdout",
     "text": [
      "cuda:0\n"
     ]
    }
   ],
   "source": [
    "device = torch.device(\"cuda:0\" if torch.cuda.is_available() else \"cpu\")\n",
    "print(device)"
   ]
  },
  {
   "cell_type": "code",
   "execution_count": 36,
   "metadata": {},
   "outputs": [],
   "source": [
    "from layers.bert_plus_bidaf import BERT_plus_BiDAF\n",
    "model = BERT_plus_BiDAF()"
   ]
  },
  {
   "cell_type": "code",
   "execution_count": 37,
   "metadata": {},
   "outputs": [
    {
     "output_type": "execute_result",
     "data": {
      "text/plain": [
       "BERT_plus_BiDAF(\n",
       "  (bert_layer): BertModel(\n",
       "    (embeddings): BertEmbeddings(\n",
       "      (word_embeddings): Embedding(30522, 768, padding_idx=0)\n",
       "      (position_embeddings): Embedding(512, 768)\n",
       "      (token_type_embeddings): Embedding(2, 768)\n",
       "      (LayerNorm): BertLayerNorm()\n",
       "      (dropout): Dropout(p=0.1, inplace=False)\n",
       "    )\n",
       "    (encoder): BertEncoder(\n",
       "      (layer): ModuleList(\n",
       "        (0): BertLayer(\n",
       "          (attention): BertAttention(\n",
       "            (self): BertSelfAttention(\n",
       "              (query): Linear(in_features=768, out_features=768, bias=True)\n",
       "              (key): Linear(in_features=768, out_features=768, bias=True)\n",
       "              (value): Linear(in_features=768, out_features=768, bias=True)\n",
       "              (dropout): Dropout(p=0.1, inplace=False)\n",
       "            )\n",
       "            (output): BertSelfOutput(\n",
       "              (dense): Linear(in_features=768, out_features=768, bias=True)\n",
       "              (LayerNorm): BertLayerNorm()\n",
       "              (dropout): Dropout(p=0.1, inplace=False)\n",
       "            )\n",
       "          )\n",
       "          (intermediate): BertIntermediate(\n",
       "            (dense): Linear(in_features=768, out_features=3072, bias=True)\n",
       "          )\n",
       "          (output): BertOutput(\n",
       "            (dense): Linear(in_features=3072, out_features=768, bias=True)\n",
       "            (LayerNorm): BertLayerNorm()\n",
       "            (dropout): Dropout(p=0.1, inplace=False)\n",
       "          )\n",
       "        )\n",
       "        (1): BertLayer(\n",
       "          (attention): BertAttention(\n",
       "            (self): BertSelfAttention(\n",
       "              (query): Linear(in_features=768, out_features=768, bias=True)\n",
       "              (key): Linear(in_features=768, out_features=768, bias=True)\n",
       "              (value): Linear(in_features=768, out_features=768, bias=True)\n",
       "              (dropout): Dropout(p=0.1, inplace=False)\n",
       "            )\n",
       "            (output): BertSelfOutput(\n",
       "              (dense): Linear(in_features=768, out_features=768, bias=True)\n",
       "              (LayerNorm): BertLayerNorm()\n",
       "              (dropout): Dropout(p=0.1, inplace=False)\n",
       "            )\n",
       "          )\n",
       "          (intermediate): BertIntermediate(\n",
       "            (dense): Linear(in_features=768, out_features=3072, bias=True)\n",
       "          )\n",
       "          (output): BertOutput(\n",
       "            (dense): Linear(in_features=3072, out_features=768, bias=True)\n",
       "            (LayerNorm): BertLayerNorm()\n",
       "            (dropout): Dropout(p=0.1, inplace=False)\n",
       "          )\n",
       "        )\n",
       "        (2): BertLayer(\n",
       "          (attention): BertAttention(\n",
       "            (self): BertSelfAttention(\n",
       "              (query): Linear(in_features=768, out_features=768, bias=True)\n",
       "              (key): Linear(in_features=768, out_features=768, bias=True)\n",
       "              (value): Linear(in_features=768, out_features=768, bias=True)\n",
       "              (dropout): Dropout(p=0.1, inplace=False)\n",
       "            )\n",
       "            (output): BertSelfOutput(\n",
       "              (dense): Linear(in_features=768, out_features=768, bias=True)\n",
       "              (LayerNorm): BertLayerNorm()\n",
       "              (dropout): Dropout(p=0.1, inplace=False)\n",
       "            )\n",
       "          )\n",
       "          (intermediate): BertIntermediate(\n",
       "            (dense): Linear(in_features=768, out_features=3072, bias=True)\n",
       "          )\n",
       "          (output): BertOutput(\n",
       "            (dense): Linear(in_features=3072, out_features=768, bias=True)\n",
       "            (LayerNorm): BertLayerNorm()\n",
       "            (dropout): Dropout(p=0.1, inplace=False)\n",
       "          )\n",
       "        )\n",
       "        (3): BertLayer(\n",
       "          (attention): BertAttention(\n",
       "            (self): BertSelfAttention(\n",
       "              (query): Linear(in_features=768, out_features=768, bias=True)\n",
       "              (key): Linear(in_features=768, out_features=768, bias=True)\n",
       "              (value): Linear(in_features=768, out_features=768, bias=True)\n",
       "              (dropout): Dropout(p=0.1, inplace=False)\n",
       "            )\n",
       "            (output): BertSelfOutput(\n",
       "              (dense): Linear(in_features=768, out_features=768, bias=True)\n",
       "              (LayerNorm): BertLayerNorm()\n",
       "              (dropout): Dropout(p=0.1, inplace=False)\n",
       "            )\n",
       "          )\n",
       "          (intermediate): BertIntermediate(\n",
       "            (dense): Linear(in_features=768, out_features=3072, bias=True)\n",
       "          )\n",
       "          (output): BertOutput(\n",
       "            (dense): Linear(in_features=3072, out_features=768, bias=True)\n",
       "            (LayerNorm): BertLayerNorm()\n",
       "            (dropout): Dropout(p=0.1, inplace=False)\n",
       "          )\n",
       "        )\n",
       "        (4): BertLayer(\n",
       "          (attention): BertAttention(\n",
       "            (self): BertSelfAttention(\n",
       "              (query): Linear(in_features=768, out_features=768, bias=True)\n",
       "              (key): Linear(in_features=768, out_features=768, bias=True)\n",
       "              (value): Linear(in_features=768, out_features=768, bias=True)\n",
       "              (dropout): Dropout(p=0.1, inplace=False)\n",
       "            )\n",
       "            (output): BertSelfOutput(\n",
       "              (dense): Linear(in_features=768, out_features=768, bias=True)\n",
       "              (LayerNorm): BertLayerNorm()\n",
       "              (dropout): Dropout(p=0.1, inplace=False)\n",
       "            )\n",
       "          )\n",
       "          (intermediate): BertIntermediate(\n",
       "            (dense): Linear(in_features=768, out_features=3072, bias=True)\n",
       "          )\n",
       "          (output): BertOutput(\n",
       "            (dense): Linear(in_features=3072, out_features=768, bias=True)\n",
       "            (LayerNorm): BertLayerNorm()\n",
       "            (dropout): Dropout(p=0.1, inplace=False)\n",
       "          )\n",
       "        )\n",
       "        (5): BertLayer(\n",
       "          (attention): BertAttention(\n",
       "            (self): BertSelfAttention(\n",
       "              (query): Linear(in_features=768, out_features=768, bias=True)\n",
       "              (key): Linear(in_features=768, out_features=768, bias=True)\n",
       "              (value): Linear(in_features=768, out_features=768, bias=True)\n",
       "              (dropout): Dropout(p=0.1, inplace=False)\n",
       "            )\n",
       "            (output): BertSelfOutput(\n",
       "              (dense): Linear(in_features=768, out_features=768, bias=True)\n",
       "              (LayerNorm): BertLayerNorm()\n",
       "              (dropout): Dropout(p=0.1, inplace=False)\n",
       "            )\n",
       "          )\n",
       "          (intermediate): BertIntermediate(\n",
       "            (dense): Linear(in_features=768, out_features=3072, bias=True)\n",
       "          )\n",
       "          (output): BertOutput(\n",
       "            (dense): Linear(in_features=3072, out_features=768, bias=True)\n",
       "            (LayerNorm): BertLayerNorm()\n",
       "            (dropout): Dropout(p=0.1, inplace=False)\n",
       "          )\n",
       "        )\n",
       "        (6): BertLayer(\n",
       "          (attention): BertAttention(\n",
       "            (self): BertSelfAttention(\n",
       "              (query): Linear(in_features=768, out_features=768, bias=True)\n",
       "              (key): Linear(in_features=768, out_features=768, bias=True)\n",
       "              (value): Linear(in_features=768, out_features=768, bias=True)\n",
       "              (dropout): Dropout(p=0.1, inplace=False)\n",
       "            )\n",
       "            (output): BertSelfOutput(\n",
       "              (dense): Linear(in_features=768, out_features=768, bias=True)\n",
       "              (LayerNorm): BertLayerNorm()\n",
       "              (dropout): Dropout(p=0.1, inplace=False)\n",
       "            )\n",
       "          )\n",
       "          (intermediate): BertIntermediate(\n",
       "            (dense): Linear(in_features=768, out_features=3072, bias=True)\n",
       "          )\n",
       "          (output): BertOutput(\n",
       "            (dense): Linear(in_features=3072, out_features=768, bias=True)\n",
       "            (LayerNorm): BertLayerNorm()\n",
       "            (dropout): Dropout(p=0.1, inplace=False)\n",
       "          )\n",
       "        )\n",
       "        (7): BertLayer(\n",
       "          (attention): BertAttention(\n",
       "            (self): BertSelfAttention(\n",
       "              (query): Linear(in_features=768, out_features=768, bias=True)\n",
       "              (key): Linear(in_features=768, out_features=768, bias=True)\n",
       "              (value): Linear(in_features=768, out_features=768, bias=True)\n",
       "              (dropout): Dropout(p=0.1, inplace=False)\n",
       "            )\n",
       "            (output): BertSelfOutput(\n",
       "              (dense): Linear(in_features=768, out_features=768, bias=True)\n",
       "              (LayerNorm): BertLayerNorm()\n",
       "              (dropout): Dropout(p=0.1, inplace=False)\n",
       "            )\n",
       "          )\n",
       "          (intermediate): BertIntermediate(\n",
       "            (dense): Linear(in_features=768, out_features=3072, bias=True)\n",
       "          )\n",
       "          (output): BertOutput(\n",
       "            (dense): Linear(in_features=3072, out_features=768, bias=True)\n",
       "            (LayerNorm): BertLayerNorm()\n",
       "            (dropout): Dropout(p=0.1, inplace=False)\n",
       "          )\n",
       "        )\n",
       "        (8): BertLayer(\n",
       "          (attention): BertAttention(\n",
       "            (self): BertSelfAttention(\n",
       "              (query): Linear(in_features=768, out_features=768, bias=True)\n",
       "              (key): Linear(in_features=768, out_features=768, bias=True)\n",
       "              (value): Linear(in_features=768, out_features=768, bias=True)\n",
       "              (dropout): Dropout(p=0.1, inplace=False)\n",
       "            )\n",
       "            (output): BertSelfOutput(\n",
       "              (dense): Linear(in_features=768, out_features=768, bias=True)\n",
       "              (LayerNorm): BertLayerNorm()\n",
       "              (dropout): Dropout(p=0.1, inplace=False)\n",
       "            )\n",
       "          )\n",
       "          (intermediate): BertIntermediate(\n",
       "            (dense): Linear(in_features=768, out_features=3072, bias=True)\n",
       "          )\n",
       "          (output): BertOutput(\n",
       "            (dense): Linear(in_features=3072, out_features=768, bias=True)\n",
       "            (LayerNorm): BertLayerNorm()\n",
       "            (dropout): Dropout(p=0.1, inplace=False)\n",
       "          )\n",
       "        )\n",
       "        (9): BertLayer(\n",
       "          (attention): BertAttention(\n",
       "            (self): BertSelfAttention(\n",
       "              (query): Linear(in_features=768, out_features=768, bias=True)\n",
       "              (key): Linear(in_features=768, out_features=768, bias=True)\n",
       "              (value): Linear(in_features=768, out_features=768, bias=True)\n",
       "              (dropout): Dropout(p=0.1, inplace=False)\n",
       "            )\n",
       "            (output): BertSelfOutput(\n",
       "              (dense): Linear(in_features=768, out_features=768, bias=True)\n",
       "              (LayerNorm): BertLayerNorm()\n",
       "              (dropout): Dropout(p=0.1, inplace=False)\n",
       "            )\n",
       "          )\n",
       "          (intermediate): BertIntermediate(\n",
       "            (dense): Linear(in_features=768, out_features=3072, bias=True)\n",
       "          )\n",
       "          (output): BertOutput(\n",
       "            (dense): Linear(in_features=3072, out_features=768, bias=True)\n",
       "            (LayerNorm): BertLayerNorm()\n",
       "            (dropout): Dropout(p=0.1, inplace=False)\n",
       "          )\n",
       "        )\n",
       "        (10): BertLayer(\n",
       "          (attention): BertAttention(\n",
       "            (self): BertSelfAttention(\n",
       "              (query): Linear(in_features=768, out_features=768, bias=True)\n",
       "              (key): Linear(in_features=768, out_features=768, bias=True)\n",
       "              (value): Linear(in_features=768, out_features=768, bias=True)\n",
       "              (dropout): Dropout(p=0.1, inplace=False)\n",
       "            )\n",
       "            (output): BertSelfOutput(\n",
       "              (dense): Linear(in_features=768, out_features=768, bias=True)\n",
       "              (LayerNorm): BertLayerNorm()\n",
       "              (dropout): Dropout(p=0.1, inplace=False)\n",
       "            )\n",
       "          )\n",
       "          (intermediate): BertIntermediate(\n",
       "            (dense): Linear(in_features=768, out_features=3072, bias=True)\n",
       "          )\n",
       "          (output): BertOutput(\n",
       "            (dense): Linear(in_features=3072, out_features=768, bias=True)\n",
       "            (LayerNorm): BertLayerNorm()\n",
       "            (dropout): Dropout(p=0.1, inplace=False)\n",
       "          )\n",
       "        )\n",
       "        (11): BertLayer(\n",
       "          (attention): BertAttention(\n",
       "            (self): BertSelfAttention(\n",
       "              (query): Linear(in_features=768, out_features=768, bias=True)\n",
       "              (key): Linear(in_features=768, out_features=768, bias=True)\n",
       "              (value): Linear(in_features=768, out_features=768, bias=True)\n",
       "              (dropout): Dropout(p=0.1, inplace=False)\n",
       "            )\n",
       "            (output): BertSelfOutput(\n",
       "              (dense): Linear(in_features=768, out_features=768, bias=True)\n",
       "              (LayerNorm): BertLayerNorm()\n",
       "              (dropout): Dropout(p=0.1, inplace=False)\n",
       "            )\n",
       "          )\n",
       "          (intermediate): BertIntermediate(\n",
       "            (dense): Linear(in_features=768, out_features=3072, bias=True)\n",
       "          )\n",
       "          (output): BertOutput(\n",
       "            (dense): Linear(in_features=3072, out_features=768, bias=True)\n",
       "            (LayerNorm): BertLayerNorm()\n",
       "            (dropout): Dropout(p=0.1, inplace=False)\n",
       "          )\n",
       "        )\n",
       "      )\n",
       "    )\n",
       "    (pooler): BertPooler(\n",
       "      (dense): Linear(in_features=768, out_features=768, bias=True)\n",
       "      (activation): Tanh()\n",
       "    )\n",
       "  )\n",
       "  (attention_layer): AttFlow(\n",
       "    (weight): Linear(in_features=2304, out_features=1, bias=False)\n",
       "  )\n",
       "  (prediction_layer): PredictionLayer(\n",
       "    (pred_start): Linear(in_features=3072, out_features=1, bias=False)\n",
       "    (pred_end): Linear(in_features=3072, out_features=1, bias=False)\n",
       "  )\n",
       ")"
      ]
     },
     "metadata": {},
     "execution_count": 37
    }
   ],
   "source": [
    "model.to(device)"
   ]
  },
  {
   "source": [
    "This part should be declaration of the optimizer and the loss function. "
   ],
   "cell_type": "markdown",
   "metadata": {}
  },
  {
   "cell_type": "code",
   "execution_count": 38,
   "metadata": {},
   "outputs": [
    {
     "output_type": "stream",
     "name": "stdout",
     "text": [
      "Parameters to learn:\n\t bert_layer.embeddings.word_embeddings.weight\n\t bert_layer.embeddings.position_embeddings.weight\n\t bert_layer.embeddings.token_type_embeddings.weight\n\t bert_layer.embeddings.LayerNorm.weight\n\t bert_layer.embeddings.LayerNorm.bias\n\t bert_layer.encoder.layer.0.attention.self.query.weight\n\t bert_layer.encoder.layer.0.attention.self.query.bias\n\t bert_layer.encoder.layer.0.attention.self.key.weight\n\t bert_layer.encoder.layer.0.attention.self.key.bias\n\t bert_layer.encoder.layer.0.attention.self.value.weight\n\t bert_layer.encoder.layer.0.attention.self.value.bias\n\t bert_layer.encoder.layer.0.attention.output.dense.weight\n\t bert_layer.encoder.layer.0.attention.output.dense.bias\n\t bert_layer.encoder.layer.0.attention.output.LayerNorm.weight\n\t bert_layer.encoder.layer.0.attention.output.LayerNorm.bias\n\t bert_layer.encoder.layer.0.intermediate.dense.weight\n\t bert_layer.encoder.layer.0.intermediate.dense.bias\n\t bert_layer.encoder.layer.0.output.dense.weight\n\t bert_layer.encoder.layer.0.output.dense.bias\n\t bert_layer.encoder.layer.0.output.LayerNorm.weight\n\t bert_layer.encoder.layer.0.output.LayerNorm.bias\n\t bert_layer.encoder.layer.1.attention.self.query.weight\n\t bert_layer.encoder.layer.1.attention.self.query.bias\n\t bert_layer.encoder.layer.1.attention.self.key.weight\n\t bert_layer.encoder.layer.1.attention.self.key.bias\n\t bert_layer.encoder.layer.1.attention.self.value.weight\n\t bert_layer.encoder.layer.1.attention.self.value.bias\n\t bert_layer.encoder.layer.1.attention.output.dense.weight\n\t bert_layer.encoder.layer.1.attention.output.dense.bias\n\t bert_layer.encoder.layer.1.attention.output.LayerNorm.weight\n\t bert_layer.encoder.layer.1.attention.output.LayerNorm.bias\n\t bert_layer.encoder.layer.1.intermediate.dense.weight\n\t bert_layer.encoder.layer.1.intermediate.dense.bias\n\t bert_layer.encoder.layer.1.output.dense.weight\n\t bert_layer.encoder.layer.1.output.dense.bias\n\t bert_layer.encoder.layer.1.output.LayerNorm.weight\n\t bert_layer.encoder.layer.1.output.LayerNorm.bias\n\t bert_layer.encoder.layer.2.attention.self.query.weight\n\t bert_layer.encoder.layer.2.attention.self.query.bias\n\t bert_layer.encoder.layer.2.attention.self.key.weight\n\t bert_layer.encoder.layer.2.attention.self.key.bias\n\t bert_layer.encoder.layer.2.attention.self.value.weight\n\t bert_layer.encoder.layer.2.attention.self.value.bias\n\t bert_layer.encoder.layer.2.attention.output.dense.weight\n\t bert_layer.encoder.layer.2.attention.output.dense.bias\n\t bert_layer.encoder.layer.2.attention.output.LayerNorm.weight\n\t bert_layer.encoder.layer.2.attention.output.LayerNorm.bias\n\t bert_layer.encoder.layer.2.intermediate.dense.weight\n\t bert_layer.encoder.layer.2.intermediate.dense.bias\n\t bert_layer.encoder.layer.2.output.dense.weight\n\t bert_layer.encoder.layer.2.output.dense.bias\n\t bert_layer.encoder.layer.2.output.LayerNorm.weight\n\t bert_layer.encoder.layer.2.output.LayerNorm.bias\n\t bert_layer.encoder.layer.3.attention.self.query.weight\n\t bert_layer.encoder.layer.3.attention.self.query.bias\n\t bert_layer.encoder.layer.3.attention.self.key.weight\n\t bert_layer.encoder.layer.3.attention.self.key.bias\n\t bert_layer.encoder.layer.3.attention.self.value.weight\n\t bert_layer.encoder.layer.3.attention.self.value.bias\n\t bert_layer.encoder.layer.3.attention.output.dense.weight\n\t bert_layer.encoder.layer.3.attention.output.dense.bias\n\t bert_layer.encoder.layer.3.attention.output.LayerNorm.weight\n\t bert_layer.encoder.layer.3.attention.output.LayerNorm.bias\n\t bert_layer.encoder.layer.3.intermediate.dense.weight\n\t bert_layer.encoder.layer.3.intermediate.dense.bias\n\t bert_layer.encoder.layer.3.output.dense.weight\n\t bert_layer.encoder.layer.3.output.dense.bias\n\t bert_layer.encoder.layer.3.output.LayerNorm.weight\n\t bert_layer.encoder.layer.3.output.LayerNorm.bias\n\t bert_layer.encoder.layer.4.attention.self.query.weight\n\t bert_layer.encoder.layer.4.attention.self.query.bias\n\t bert_layer.encoder.layer.4.attention.self.key.weight\n\t bert_layer.encoder.layer.4.attention.self.key.bias\n\t bert_layer.encoder.layer.4.attention.self.value.weight\n\t bert_layer.encoder.layer.4.attention.self.value.bias\n\t bert_layer.encoder.layer.4.attention.output.dense.weight\n\t bert_layer.encoder.layer.4.attention.output.dense.bias\n\t bert_layer.encoder.layer.4.attention.output.LayerNorm.weight\n\t bert_layer.encoder.layer.4.attention.output.LayerNorm.bias\n\t bert_layer.encoder.layer.4.intermediate.dense.weight\n\t bert_layer.encoder.layer.4.intermediate.dense.bias\n\t bert_layer.encoder.layer.4.output.dense.weight\n\t bert_layer.encoder.layer.4.output.dense.bias\n\t bert_layer.encoder.layer.4.output.LayerNorm.weight\n\t bert_layer.encoder.layer.4.output.LayerNorm.bias\n\t bert_layer.encoder.layer.5.attention.self.query.weight\n\t bert_layer.encoder.layer.5.attention.self.query.bias\n\t bert_layer.encoder.layer.5.attention.self.key.weight\n\t bert_layer.encoder.layer.5.attention.self.key.bias\n\t bert_layer.encoder.layer.5.attention.self.value.weight\n\t bert_layer.encoder.layer.5.attention.self.value.bias\n\t bert_layer.encoder.layer.5.attention.output.dense.weight\n\t bert_layer.encoder.layer.5.attention.output.dense.bias\n\t bert_layer.encoder.layer.5.attention.output.LayerNorm.weight\n\t bert_layer.encoder.layer.5.attention.output.LayerNorm.bias\n\t bert_layer.encoder.layer.5.intermediate.dense.weight\n\t bert_layer.encoder.layer.5.intermediate.dense.bias\n\t bert_layer.encoder.layer.5.output.dense.weight\n\t bert_layer.encoder.layer.5.output.dense.bias\n\t bert_layer.encoder.layer.5.output.LayerNorm.weight\n\t bert_layer.encoder.layer.5.output.LayerNorm.bias\n\t bert_layer.encoder.layer.6.attention.self.query.weight\n\t bert_layer.encoder.layer.6.attention.self.query.bias\n\t bert_layer.encoder.layer.6.attention.self.key.weight\n\t bert_layer.encoder.layer.6.attention.self.key.bias\n\t bert_layer.encoder.layer.6.attention.self.value.weight\n\t bert_layer.encoder.layer.6.attention.self.value.bias\n\t bert_layer.encoder.layer.6.attention.output.dense.weight\n\t bert_layer.encoder.layer.6.attention.output.dense.bias\n\t bert_layer.encoder.layer.6.attention.output.LayerNorm.weight\n\t bert_layer.encoder.layer.6.attention.output.LayerNorm.bias\n\t bert_layer.encoder.layer.6.intermediate.dense.weight\n\t bert_layer.encoder.layer.6.intermediate.dense.bias\n\t bert_layer.encoder.layer.6.output.dense.weight\n\t bert_layer.encoder.layer.6.output.dense.bias\n\t bert_layer.encoder.layer.6.output.LayerNorm.weight\n\t bert_layer.encoder.layer.6.output.LayerNorm.bias\n\t bert_layer.encoder.layer.7.attention.self.query.weight\n\t bert_layer.encoder.layer.7.attention.self.query.bias\n\t bert_layer.encoder.layer.7.attention.self.key.weight\n\t bert_layer.encoder.layer.7.attention.self.key.bias\n\t bert_layer.encoder.layer.7.attention.self.value.weight\n\t bert_layer.encoder.layer.7.attention.self.value.bias\n\t bert_layer.encoder.layer.7.attention.output.dense.weight\n\t bert_layer.encoder.layer.7.attention.output.dense.bias\n\t bert_layer.encoder.layer.7.attention.output.LayerNorm.weight\n\t bert_layer.encoder.layer.7.attention.output.LayerNorm.bias\n\t bert_layer.encoder.layer.7.intermediate.dense.weight\n\t bert_layer.encoder.layer.7.intermediate.dense.bias\n\t bert_layer.encoder.layer.7.output.dense.weight\n\t bert_layer.encoder.layer.7.output.dense.bias\n\t bert_layer.encoder.layer.7.output.LayerNorm.weight\n\t bert_layer.encoder.layer.7.output.LayerNorm.bias\n\t bert_layer.encoder.layer.8.attention.self.query.weight\n\t bert_layer.encoder.layer.8.attention.self.query.bias\n\t bert_layer.encoder.layer.8.attention.self.key.weight\n\t bert_layer.encoder.layer.8.attention.self.key.bias\n\t bert_layer.encoder.layer.8.attention.self.value.weight\n\t bert_layer.encoder.layer.8.attention.self.value.bias\n\t bert_layer.encoder.layer.8.attention.output.dense.weight\n\t bert_layer.encoder.layer.8.attention.output.dense.bias\n\t bert_layer.encoder.layer.8.attention.output.LayerNorm.weight\n\t bert_layer.encoder.layer.8.attention.output.LayerNorm.bias\n\t bert_layer.encoder.layer.8.intermediate.dense.weight\n\t bert_layer.encoder.layer.8.intermediate.dense.bias\n\t bert_layer.encoder.layer.8.output.dense.weight\n\t bert_layer.encoder.layer.8.output.dense.bias\n\t bert_layer.encoder.layer.8.output.LayerNorm.weight\n\t bert_layer.encoder.layer.8.output.LayerNorm.bias\n\t bert_layer.encoder.layer.9.attention.self.query.weight\n\t bert_layer.encoder.layer.9.attention.self.query.bias\n\t bert_layer.encoder.layer.9.attention.self.key.weight\n\t bert_layer.encoder.layer.9.attention.self.key.bias\n\t bert_layer.encoder.layer.9.attention.self.value.weight\n\t bert_layer.encoder.layer.9.attention.self.value.bias\n\t bert_layer.encoder.layer.9.attention.output.dense.weight\n\t bert_layer.encoder.layer.9.attention.output.dense.bias\n\t bert_layer.encoder.layer.9.attention.output.LayerNorm.weight\n\t bert_layer.encoder.layer.9.attention.output.LayerNorm.bias\n\t bert_layer.encoder.layer.9.intermediate.dense.weight\n\t bert_layer.encoder.layer.9.intermediate.dense.bias\n\t bert_layer.encoder.layer.9.output.dense.weight\n\t bert_layer.encoder.layer.9.output.dense.bias\n\t bert_layer.encoder.layer.9.output.LayerNorm.weight\n\t bert_layer.encoder.layer.9.output.LayerNorm.bias\n\t bert_layer.encoder.layer.10.attention.self.query.weight\n\t bert_layer.encoder.layer.10.attention.self.query.bias\n\t bert_layer.encoder.layer.10.attention.self.key.weight\n\t bert_layer.encoder.layer.10.attention.self.key.bias\n\t bert_layer.encoder.layer.10.attention.self.value.weight\n\t bert_layer.encoder.layer.10.attention.self.value.bias\n\t bert_layer.encoder.layer.10.attention.output.dense.weight\n\t bert_layer.encoder.layer.10.attention.output.dense.bias\n\t bert_layer.encoder.layer.10.attention.output.LayerNorm.weight\n\t bert_layer.encoder.layer.10.attention.output.LayerNorm.bias\n\t bert_layer.encoder.layer.10.intermediate.dense.weight\n\t bert_layer.encoder.layer.10.intermediate.dense.bias\n\t bert_layer.encoder.layer.10.output.dense.weight\n\t bert_layer.encoder.layer.10.output.dense.bias\n\t bert_layer.encoder.layer.10.output.LayerNorm.weight\n\t bert_layer.encoder.layer.10.output.LayerNorm.bias\n\t bert_layer.encoder.layer.11.attention.self.query.weight\n\t bert_layer.encoder.layer.11.attention.self.query.bias\n\t bert_layer.encoder.layer.11.attention.self.key.weight\n\t bert_layer.encoder.layer.11.attention.self.key.bias\n\t bert_layer.encoder.layer.11.attention.self.value.weight\n\t bert_layer.encoder.layer.11.attention.self.value.bias\n\t bert_layer.encoder.layer.11.attention.output.dense.weight\n\t bert_layer.encoder.layer.11.attention.output.dense.bias\n\t bert_layer.encoder.layer.11.attention.output.LayerNorm.weight\n\t bert_layer.encoder.layer.11.attention.output.LayerNorm.bias\n\t bert_layer.encoder.layer.11.intermediate.dense.weight\n\t bert_layer.encoder.layer.11.intermediate.dense.bias\n\t bert_layer.encoder.layer.11.output.dense.weight\n\t bert_layer.encoder.layer.11.output.dense.bias\n\t bert_layer.encoder.layer.11.output.LayerNorm.weight\n\t bert_layer.encoder.layer.11.output.LayerNorm.bias\n\t bert_layer.pooler.dense.weight\n\t bert_layer.pooler.dense.bias\n\t attention_layer.weight.weight\n\t prediction_layer.pred_start.weight\n\t prediction_layer.pred_end.weight\n"
     ]
    }
   ],
   "source": [
    "parameters = model.parameters()\n",
    "print(\"Parameters to learn:\")\n",
    "for name, param in model.named_parameters():\n",
    "    if param.requires_grad:\n",
    "        print(\"\\t\", name)\n",
    "optimizer = optim.Adam(parameters)"
   ]
  },
  {
   "cell_type": "code",
   "execution_count": 39,
   "metadata": {},
   "outputs": [],
   "source": [
    "loss = nn.CrossEntropyLoss()"
   ]
  },
  {
   "source": [
    "This part should be the definition of training process:"
   ],
   "cell_type": "markdown",
   "metadata": {}
  },
  {
   "cell_type": "code",
   "execution_count": null,
   "metadata": {},
   "outputs": [],
   "source": [
    "def train(model, dataloader, loss, optimizer, num_epochs = 5, learning_rate = 5e-5):\n",
    "    \"\"\"\n",
    "    Inputs:\n",
    "    model: a pytorch model\n",
    "    dataloader: a pytorch dataloader\n",
    "    loss_func: a pytorch criterion, e.g. torch.nn.CrossEntropyLoss()\n",
    "    optimizer: an optimizer: e.g. torch.optim.SGD()\n",
    "    \"\"\"\n",
    "\n",
    "    start = time.time()\n",
    "    val_acc_history = []\n",
    "\n",
    "    best_model = copy.deepcopy(model.state_dict())\n",
    "    best_acc = 0.0\n",
    "\n",
    "    for epoch in range(num_epochs):\n",
    "        print('Epoch {}/{}:'.format(epoch, num_epochs - 1))\n",
    "        print('-'*10)\n",
    "\n",
    "        # Each epoch we make a training and a validation phase\n",
    "        for phase in ['Train', 'Val']:\n",
    "            if phase == 'Train':\n",
    "                model.train() # This sets the model in train mode instead of training the model\n",
    "            else:\n",
    "                model.eval()  # Similarly this sets the model in evaluate mode\n",
    "            \n",
    "            # Initialize the loss and binary classification error in each epoch\n",
    "            running_loss = 0.0\n",
    "            running_corrects = 0\n",
    "\n",
    "            for inputs, labels in dataloader[phase]:\n",
    "                # Send data to GPU\n",
    "                inputs = inputs.to(device)\n",
    "                labels = labels.to(device)\n",
    "\n",
    "                # zero the parameter gradients\n",
    "                optimizer.zero_grad()\n",
    "                # Forward computation\n",
    "                # Track accuracy history in training phase\n",
    "                with torch.set_grad_enabled(phase == 'Train'):\n",
    "                    # Get the model outputs\n",
    "                    outputs = model(inputs)\n",
    "                    loss = loss_func(outputs, labels)\n",
    "\n",
    "                    # Make predictions\n",
    "                    _, preds = torch.max(outputs, 1)\n",
    "\n",
    "                    # In training phase, backprop and optimize\n",
    "                    if phase == 'Train':\n",
    "                        loss.backward()\n",
    "                        optimizer.step()\n",
    "\n",
    "                # Compute running loss/accuracy\n",
    "                running_loss += loss.item() * inputs.size(0)\n",
    "                running_corrects += torch.sum(preds == labels.data)\n",
    "\n",
    "            epoch_loss = running_loss / len(dataloader[phase].dataset)\n",
    "            epoch_acc = running_corrects.double() / len(dataloader[phase].dataset)\n",
    "\n",
    "            print('{} Loss: {:.4f} Acc: {:.4f}'.format(phase, epoch_loss, epoch_acc))\n",
    "\n",
    "            # Deepcopy the best model so far\n",
    "            if phase == 'Val' and epoch_acc > best_acc:\n",
    "                best_acc = epoch_acc\n",
    "                best_model = copy.deepcopy(model.state_dict())\n",
    "            if phase == 'Val':\n",
    "                val_acc_history.append(epoch_acc)\n",
    "\n",
    "        print()\n",
    "\n",
    "    # Output info after training\n",
    "    time_elapsed = time.time() - start\n",
    "    print('Training complete in {:.0f}m {:.0f}s'.format(time_elapsed // 60, time_elapsed % 60))\n",
    "    print('Best val Acc: {:4f}'.format(best_acc))\n",
    "\n",
    "    # Return the best model\n",
    "    model.load_state_dict(best_model)\n",
    "    return model, val_acc_history"
   ]
  },
  {
   "cell_type": "code",
   "execution_count": null,
   "metadata": {},
   "outputs": [],
   "source": [
    "def compute_F1():\n",
    "    \"\"\"\n",
    "    helper function on computing F1 score\n",
    "    \"\"\""
   ]
  },
  {
   "source": [
    "Rest part is for experiments:"
   ],
   "cell_type": "markdown",
   "metadata": {}
  }
 ]
}