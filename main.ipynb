{
 "metadata": {
  "language_info": {
   "codemirror_mode": {
    "name": "ipython",
    "version": 3
   },
   "file_extension": ".py",
   "mimetype": "text/x-python",
   "name": "python",
   "nbconvert_exporter": "python",
   "pygments_lexer": "ipython3",
   "version": "3.7.2-final"
  },
  "orig_nbformat": 2,
  "kernelspec": {
   "name": "python3",
   "display_name": "Python 3"
  }
 },
 "nbformat": 4,
 "nbformat_minor": 2,
 "cells": [
  {
   "source": [
    "In this notebook we train our model: a BERT-like model with attention flow inspired by BiDAF."
   ],
   "cell_type": "markdown",
   "metadata": {}
  },
  {
   "source": [
    "Dependencies:"
   ],
   "cell_type": "markdown",
   "metadata": {}
  },
  {
   "cell_type": "code",
   "execution_count": null,
   "metadata": {},
   "outputs": [],
   "source": [
    "import torch\n",
    "import torch.optim as optim\n",
    "import torch.nn as nn\n",
    "import torch.nn.functional as F\n",
    "import numpy as np"
   ]
  },
  {
   "source": [
    "This part should be data loading and processing.\n",
    "\n",
    "Input: SQuAD dataset handler/url/json\n",
    "\n",
    "Output: processed dict/list/whatever: train_question, train_context, train_answer"
   ],
   "cell_type": "markdown",
   "metadata": {}
  },
  {
   "cell_type": "code",
   "execution_count": null,
   "metadata": {},
   "outputs": [],
   "source": [
    "from utils import data_processing\n",
    "\"\"\" TODO: moving previous data processing scripts to data_process.py \"\"\""
   ]
  },
  {
   "source": [
    "This part should be model construction."
   ],
   "cell_type": "markdown",
   "metadata": {}
  },
  {
   "cell_type": "code",
   "execution_count": null,
   "metadata": {},
   "outputs": [],
   "source": [
    "from layers.bert_plus_bidaf import BERT_plus_BiDAF\n",
    "\"\"\" TODO: implement BERT_plus_BiDAF model class \"\"\""
   ]
  },
  {
   "source": [
    "This part should be declaration of the optimizer and the loss function. "
   ],
   "cell_type": "markdown",
   "metadata": {}
  },
  {
   "cell_type": "code",
   "execution_count": null,
   "metadata": {},
   "outputs": [],
   "source": [
    "\"\"\" TODO: optimizer, and loss function(not urgent)\"\"\""
   ]
  },
  {
   "source": [
    "This part should be the definition of training process:"
   ],
   "cell_type": "markdown",
   "metadata": {}
  },
  {
   "cell_type": "code",
   "execution_count": null,
   "metadata": {},
   "outputs": [],
   "source": [
    "def train(model, inputs):\n",
    "\"\"\" TODO: determine inputs \"\"\""
   ]
  },
  {
   "source": [
    "Rest part is for experiments:"
   ],
   "cell_type": "markdown",
   "metadata": {}
  }
 ]
}